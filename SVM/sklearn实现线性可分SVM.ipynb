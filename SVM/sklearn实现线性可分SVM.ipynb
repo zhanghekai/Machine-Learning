{
 "cells": [
  {
   "cell_type": "code",
   "execution_count": 1,
   "metadata": {},
   "outputs": [],
   "source": [
    "import numpy as np\n",
    "import matplotlib.pyplot as plt\n",
    "from sklearn import svm \n",
    "%matplotlib inline"
   ]
  },
  {
   "cell_type": "markdown",
   "metadata": {},
   "source": [
    "#### 加载数据"
   ]
  },
  {
   "cell_type": "code",
   "execution_count": 2,
   "metadata": {},
   "outputs": [],
   "source": [
    "def loadDataSet():\n",
    "    dataMat = [[3.542485,1.977398],\n",
    "               [3.018896,2.556416],\n",
    "               [7.551510,-1.580030],\n",
    "               [2.114999,-0.004466],\n",
    "               [8.127113,1.274372]]\n",
    "    labelMat = [-1,-1,1,-1,1]\n",
    "    \n",
    "    return dataMat,labelMat"
   ]
  },
  {
   "cell_type": "markdown",
   "metadata": {},
   "source": [
    "#### 为样本和类别赋值"
   ]
  },
  {
   "cell_type": "code",
   "execution_count": 3,
   "metadata": {},
   "outputs": [],
   "source": [
    "X,Y = loadDataSet()\n",
    "X = np.mat(X)"
   ]
  },
  {
   "cell_type": "markdown",
   "metadata": {},
   "source": [
    "#### 拟合一个SVM模型"
   ]
  },
  {
   "cell_type": "code",
   "execution_count": 4,
   "metadata": {},
   "outputs": [
    {
     "data": {
      "text/plain": [
       "SVC(C=1.0, cache_size=200, class_weight=None, coef0=0.0,\n",
       "  decision_function_shape='ovr', degree=3, gamma='auto_deprecated',\n",
       "  kernel='linear', max_iter=-1, probability=False, random_state=None,\n",
       "  shrinking=True, tol=0.001, verbose=False)"
      ]
     },
     "execution_count": 4,
     "metadata": {},
     "output_type": "execute_result"
    }
   ],
   "source": [
    "clf = svm.SVC(kernel='linear')\n",
    "clf.fit(X,Y)"
   ]
  },
  {
   "cell_type": "markdown",
   "metadata": {},
   "source": [
    "#### 获得支持向量\n",
    "如果是二分类任务的话，第一个支持向量和最后一个支持向量肯定为不同的类别。"
   ]
  },
  {
   "cell_type": "code",
   "execution_count": 5,
   "metadata": {},
   "outputs": [
    {
     "data": {
      "text/plain": [
       "array([[ 3.542485,  1.977398],\n",
       "       [ 7.55151 , -1.58003 ],\n",
       "       [ 8.127113,  1.274372]])"
      ]
     },
     "execution_count": 5,
     "metadata": {},
     "output_type": "execute_result"
    }
   ],
   "source": [
    "clf.support_vectors_"
   ]
  },
  {
   "cell_type": "markdown",
   "metadata": {},
   "source": [
    "#### 获得支持向量的索引"
   ]
  },
  {
   "cell_type": "code",
   "execution_count": 6,
   "metadata": {},
   "outputs": [
    {
     "data": {
      "text/plain": [
       "array([0, 2, 4])"
      ]
     },
     "execution_count": 6,
     "metadata": {},
     "output_type": "execute_result"
    }
   ],
   "source": [
    "clf.support_"
   ]
  },
  {
   "cell_type": "markdown",
   "metadata": {},
   "source": [
    "#### 为每一个类别获得支持向量的数量"
   ]
  },
  {
   "cell_type": "code",
   "execution_count": 7,
   "metadata": {},
   "outputs": [
    {
     "data": {
      "text/plain": [
       "array([1, 2])"
      ]
     },
     "execution_count": 7,
     "metadata": {},
     "output_type": "execute_result"
    }
   ],
   "source": [
    "clf.n_support_ "
   ]
  },
  {
   "cell_type": "markdown",
   "metadata": {},
   "source": [
    "#### 获取分割超平面法向量值"
   ]
  },
  {
   "cell_type": "code",
   "execution_count": 8,
   "metadata": {},
   "outputs": [
    {
     "name": "stdout",
     "output_type": "stream",
     "text": [
      "[ 0.42314995 -0.0853665 ]\n"
     ]
    }
   ],
   "source": [
    "w = clf.coef_[0]\n",
    "print(w)"
   ]
  },
  {
   "cell_type": "markdown",
   "metadata": {},
   "source": [
    "#### 常数项 b "
   ]
  },
  {
   "cell_type": "code",
   "execution_count": 9,
   "metadata": {},
   "outputs": [
    {
     "name": "stdout",
     "output_type": "stream",
     "text": [
      "-2.3302333935392263\n"
     ]
    }
   ],
   "source": [
    "b = clf.intercept_[0]\n",
    "print(b)"
   ]
  },
  {
   "cell_type": "markdown",
   "metadata": {},
   "source": [
    "#### 在指定区间返回50个均匀间隔的数字\n",
    "为画图做准备，此步骤可理解为设置x轴坐标间隔和范围，    \n",
    "主要目的是为了画“支持向量线”和“超平面分隔线”，  \n",
    "因为划线时a*x+b除了上述计算出的a和b外，还需知道x的值，  \n",
    "这里x的取值对模型无影响，可取任意值（只对画出的图是否好看有影响）"
   ]
  },
  {
   "cell_type": "code",
   "execution_count": 10,
   "metadata": {},
   "outputs": [
    {
     "name": "stdout",
     "output_type": "stream",
     "text": [
      "[-2.         -1.75510204 -1.51020408 -1.26530612 -1.02040816 -0.7755102\n",
      " -0.53061224 -0.28571429 -0.04081633  0.20408163  0.44897959  0.69387755\n",
      "  0.93877551  1.18367347  1.42857143  1.67346939  1.91836735  2.16326531\n",
      "  2.40816327  2.65306122  2.89795918  3.14285714  3.3877551   3.63265306\n",
      "  3.87755102  4.12244898  4.36734694  4.6122449   4.85714286  5.10204082\n",
      "  5.34693878  5.59183673  5.83673469  6.08163265  6.32653061  6.57142857\n",
      "  6.81632653  7.06122449  7.30612245  7.55102041  7.79591837  8.04081633\n",
      "  8.28571429  8.53061224  8.7755102   9.02040816  9.26530612  9.51020408\n",
      "  9.75510204 10.        ]\n"
     ]
    }
   ],
   "source": [
    "xx = np.linspace(-2,10)\n",
    "print(xx)"
   ]
  },
  {
   "cell_type": "markdown",
   "metadata": {},
   "source": [
    "#### 二维直线方程\n",
    "$w*x+b = 0\\implies w_1x_1 + w_2x_2 +b = 0\\implies x_2 = -\\frac{w_1x_1+b}{w_2}$  \n",
    "这里的$x_1、_2$为数据集不同维度上的数值；  \n",
    "下述$xx$和$yy$分别代表两个维度上的值。"
   ]
  },
  {
   "cell_type": "code",
   "execution_count": 11,
   "metadata": {},
   "outputs": [
    {
     "name": "stdout",
     "output_type": "stream",
     "text": [
      "[-37.21053572 -35.9966104  -34.78268508 -33.56875975 -32.35483443\n",
      " -31.14090911 -29.92698379 -28.71305846 -27.49913314 -26.28520782\n",
      " -25.0712825  -23.85735717 -22.64343185 -21.42950653 -20.21558121\n",
      " -19.00165588 -17.78773056 -16.57380524 -15.35987992 -14.1459546\n",
      " -12.93202927 -11.71810395 -10.50417863  -9.29025331  -8.07632798\n",
      "  -6.86240266  -5.64847734  -4.43455202  -3.22062669  -2.00670137\n",
      "  -0.79277605   0.42114927   1.6350746    2.84899992   4.06292524\n",
      "   5.27685056   6.49077589   7.70470121   8.91862653  10.13255185\n",
      "  11.34647718  12.5604025   13.77432782  14.98825314  16.20217846\n",
      "  17.41610379  18.63002911  19.84395443  21.05787975  22.27180508]\n"
     ]
    }
   ],
   "source": [
    "yy = -(w[0] * xx + b) / w[1] # 根据一个维度的值可以计算出另一个维度的值\n",
    "print(yy)"
   ]
  },
  {
   "cell_type": "markdown",
   "metadata": {},
   "source": [
    "#### 通过支持向量绘制分割超平面\n",
    " - 已知一点$(x_0,y_0)$和斜率$a$，求该直线方程：$y-y_0=a(x-x_0)$\n",
    " \n",
    " \n",
    " - 已知直线的法向量为$n=(m，b)$，则直线的斜率为：$a = -\\frac{m}{b}$"
   ]
  },
  {
   "cell_type": "code",
   "execution_count": 12,
   "metadata": {},
   "outputs": [],
   "source": [
    "# 直线斜率\n",
    "a = -w[0] / w[1]\n",
    "\n",
    "# 选择第一个类别的支持向量,并计算y值\n",
    "x_1 = clf.support_vectors_[0]\n",
    "yy_dowm = a * (xx - x_1[0]) + x_1[1]\n",
    "\n",
    "# 选择另一个类别的支持向量，并计算y值\n",
    "x_2 = clf.support_vectors_[-1]\n",
    "yy_up = a * (xx - x_2[0]) + x_2[1]"
   ]
  },
  {
   "cell_type": "markdown",
   "metadata": {},
   "source": [
    "# 绘制模型示意图"
   ]
  },
  {
   "cell_type": "code",
   "execution_count": 13,
   "metadata": {},
   "outputs": [
    {
     "data": {
      "image/png": "[encoded data removed]",
      "text/plain": [
       "<Figure size 432x288 with 1 Axes>"
      ]
     },
     "metadata": {
      "needs_background": "light"
     },
     "output_type": "display_data"
    }
   ],
   "source": [
    "# 绘制超平面及支持向量\n",
    "plt.plot(xx, yy, 'r-')\n",
    "plt.plot(xx, yy_dowm, 'k--')\n",
    "plt.plot(xx, yy_up, 'k--')\n",
    "\n",
    "# 将数据集上的点绘制到模型图中\n",
    "plt.scatter([X[:, 0]], [X[:, 1]], c='b', s=80, cmap=plt.cm.Paired)\n",
    "\n",
    "# 绘制支持向量上的点\n",
    "plt.scatter(clf.support_vectors_[:,0], clf.support_vectors_[:,1], s=80, c='g')\n",
    "\n",
    "plt.show()"
   ]
  },
  {
   "cell_type": "markdown",
   "metadata": {},
   "source": [
    "#### 进行预测"
   ]
  },
  {
   "cell_type": "code",
   "execution_count": 14,
   "metadata": {},
   "outputs": [
    {
     "data": {
      "text/plain": [
       "array([-1])"
      ]
     },
     "execution_count": 14,
     "metadata": {},
     "output_type": "execute_result"
    }
   ],
   "source": [
    "clf.predict([[1, 1]])"
   ]
  },
  {
   "cell_type": "code",
   "execution_count": 15,
   "metadata": {},
   "outputs": [
    {
     "data": {
      "text/plain": [
       "array([1])"
      ]
     },
     "execution_count": 15,
     "metadata": {},
     "output_type": "execute_result"
    }
   ],
   "source": [
    "clf.predict([[6, -5]])"
   ]
  },
  {
   "cell_type": "code",
   "execution_count": null,
   "metadata": {},
   "outputs": [],
   "source": []
  }
 ],
 "metadata": {
  "kernelspec": {
   "display_name": "Python 3",
   "language": "python",
   "name": "python3"
  },
  "language_info": {
   "codemirror_mode": {
    "name": "ipython",
    "version": 3
   },
   "file_extension": ".py",
   "mimetype": "text/x-python",
   "name": "python",
   "nbconvert_exporter": "python",
   "pygments_lexer": "ipython3",
   "version": "3.6.7"
  }
 },
 "nbformat": 4,
 "nbformat_minor": 2
}
