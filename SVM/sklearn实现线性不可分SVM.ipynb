{
 "cells": [
  {
   "cell_type": "code",
   "execution_count": 2,
   "metadata": {},
   "outputs": [],
   "source": [
    "import numpy as np\n",
    "import matplotlib.pyplot as plt\n",
    "from sklearn import svm \n",
    "%matplotlib inline"
   ]
  },
  {
   "cell_type": "markdown",
   "metadata": {},
   "source": [
    "#### 加载数据\n",
    "此数据可以在我的github中获取。"
   ]
  },
  {
   "cell_type": "code",
   "execution_count": 3,
   "metadata": {},
   "outputs": [],
   "source": [
    "def loadDataSet(fileName):\n",
    "    \"\"\"loadDataSet（对文件进行逐行解析，从而得到第行的类标签和整个数据矩阵）\n",
    "    Args:\n",
    "        fileName 文件名\n",
    "    Returns:\n",
    "        dataMat  数据矩阵\n",
    "        labelMat 类标签\n",
    "    \"\"\"\n",
    "    dataMat = []\n",
    "    labelMat = []\n",
    "    fr = open(fileName)\n",
    "    for line in fr.readlines():\n",
    "        lineArr = line.strip().split('\\t')\n",
    "        dataMat.append([float(lineArr[0]), float(lineArr[1])])\n",
    "        labelMat.append(float(lineArr[2]))\n",
    "    return dataMat, labelMat"
   ]
  },
  {
   "cell_type": "markdown",
   "metadata": {},
   "source": [
    "#### 为样本和类别赋值"
   ]
  },
  {
   "cell_type": "code",
   "execution_count": 4,
   "metadata": {},
   "outputs": [],
   "source": [
    "X,Y = loadDataSet('G:\\\\desktop\\\\svmdata线性不可分 .txt')\n",
    "X = np.mat(X)"
   ]
  },
  {
   "cell_type": "markdown",
   "metadata": {},
   "source": [
    "#### 拟合一个SVM模型"
   ]
  },
  {
   "cell_type": "code",
   "execution_count": 5,
   "metadata": {},
   "outputs": [
    {
     "data": {
      "text/plain": [
       "SVC(C=1.0, cache_size=200, class_weight=None, coef0=0.0,\n",
       "  decision_function_shape='ovr', degree=3, gamma='auto_deprecated',\n",
       "  kernel='linear', max_iter=-1, probability=False, random_state=None,\n",
       "  shrinking=True, tol=0.001, verbose=False)"
      ]
     },
     "execution_count": 5,
     "metadata": {},
     "output_type": "execute_result"
    }
   ],
   "source": [
    "clf = svm.SVC(kernel='linear')\n",
    "clf.fit(X,Y)"
   ]
  },
  {
   "cell_type": "markdown",
   "metadata": {},
   "source": [
    "#### 获得支持向量\n",
    "如果是二分类任务的话，第一个支持向量和最后一个支持向量肯定为不同的类别。"
   ]
  },
  {
   "cell_type": "code",
   "execution_count": 6,
   "metadata": {},
   "outputs": [
    {
     "data": {
      "text/plain": [
       "array([[ 3.125951,  0.293251],\n",
       "       [ 4.658191,  3.507396],\n",
       "       [ 3.023938, -0.057392],\n",
       "       [ 5.286862, -2.358286],\n",
       "       [ 6.080573,  0.418886],\n",
       "       [ 2.912122, -0.202359],\n",
       "       [ 3.223038, -0.552392],\n",
       "       [ 3.457096, -0.082216],\n",
       "       [ 6.960661, -0.245353],\n",
       "       [ 2.893743, -1.643468],\n",
       "       [ 6.543888,  0.433164]])"
      ]
     },
     "execution_count": 6,
     "metadata": {},
     "output_type": "execute_result"
    }
   ],
   "source": [
    "clf.support_vectors_"
   ]
  },
  {
   "cell_type": "markdown",
   "metadata": {},
   "source": [
    "#### 获得支持向量的索引"
   ]
  },
  {
   "cell_type": "code",
   "execution_count": 7,
   "metadata": {},
   "outputs": [
    {
     "data": {
      "text/plain": [
       "array([10, 17, 30, 54, 55, 97, 23, 29, 46, 52, 69])"
      ]
     },
     "execution_count": 7,
     "metadata": {},
     "output_type": "execute_result"
    }
   ],
   "source": [
    "clf.support_"
   ]
  },
  {
   "cell_type": "markdown",
   "metadata": {},
   "source": [
    "#### 为每一个类别获得支持向量的数量"
   ]
  },
  {
   "cell_type": "code",
   "execution_count": 8,
   "metadata": {},
   "outputs": [
    {
     "data": {
      "text/plain": [
       "array([6, 5])"
      ]
     },
     "execution_count": 8,
     "metadata": {},
     "output_type": "execute_result"
    }
   ],
   "source": [
    "clf.n_support_ "
   ]
  },
  {
   "cell_type": "markdown",
   "metadata": {},
   "source": [
    "#### 获取分割超平面法向量值"
   ]
  },
  {
   "cell_type": "code",
   "execution_count": 9,
   "metadata": {},
   "outputs": [
    {
     "name": "stdout",
     "output_type": "stream",
     "text": [
      "[ 0.48860878 -0.23292803]\n"
     ]
    }
   ],
   "source": [
    "w = clf.coef_[0]\n",
    "print(w)"
   ]
  },
  {
   "cell_type": "markdown",
   "metadata": {},
   "source": [
    "#### 常数项 b "
   ]
  },
  {
   "cell_type": "code",
   "execution_count": 10,
   "metadata": {},
   "outputs": [
    {
     "name": "stdout",
     "output_type": "stream",
     "text": [
      "-2.4587710972338503\n"
     ]
    }
   ],
   "source": [
    "b = clf.intercept_[0]\n",
    "print(b)"
   ]
  },
  {
   "cell_type": "markdown",
   "metadata": {},
   "source": [
    "#### 在指定区间返回50个均匀间隔的数字\n",
    "为画图做准备，此步骤可理解为设置x轴坐标间隔和范围，    \n",
    "主要目的是为了画“支持向量线”和“超平面分隔线”，  \n",
    "因为划线时a*x+b除了上述计算出的a和b外，还需知道x的值，  \n",
    "这里x的取值对模型无影响，可取任意值（只对画出的图是否好看有影响）"
   ]
  },
  {
   "cell_type": "code",
   "execution_count": 11,
   "metadata": {},
   "outputs": [
    {
     "name": "stdout",
     "output_type": "stream",
     "text": [
      "[ 0.          0.20408163  0.40816327  0.6122449   0.81632653  1.02040816\n",
      "  1.2244898   1.42857143  1.63265306  1.83673469  2.04081633  2.24489796\n",
      "  2.44897959  2.65306122  2.85714286  3.06122449  3.26530612  3.46938776\n",
      "  3.67346939  3.87755102  4.08163265  4.28571429  4.48979592  4.69387755\n",
      "  4.89795918  5.10204082  5.30612245  5.51020408  5.71428571  5.91836735\n",
      "  6.12244898  6.32653061  6.53061224  6.73469388  6.93877551  7.14285714\n",
      "  7.34693878  7.55102041  7.75510204  7.95918367  8.16326531  8.36734694\n",
      "  8.57142857  8.7755102   8.97959184  9.18367347  9.3877551   9.59183673\n",
      "  9.79591837 10.        ]\n"
     ]
    }
   ],
   "source": [
    "xx = np.linspace(0,10)\n",
    "print(xx)"
   ]
  },
  {
   "cell_type": "markdown",
   "metadata": {},
   "source": [
    "#### 二维直线方程\n",
    "$w*x+b = 0\\implies w_1x_1 + w_2x_2 +b = 0\\implies x_2 = -\\frac{w_1x_1+b}{w_2}$  \n",
    "这里的$x_1、_2$为数据集不同维度上的数值；  \n",
    "下述$xx$和$yy$分别代表两个维度上的值。"
   ]
  },
  {
   "cell_type": "code",
   "execution_count": 12,
   "metadata": {},
   "outputs": [
    {
     "name": "stdout",
     "output_type": "stream",
     "text": [
      "[-10.55592603 -10.12782781  -9.69972959  -9.27163137  -8.84353315\n",
      "  -8.41543493  -7.98733671  -7.55923849  -7.13114027  -6.70304206\n",
      "  -6.27494384  -5.84684562  -5.4187474   -4.99064918  -4.56255096\n",
      "  -4.13445274  -3.70635452  -3.2782563   -2.85015808  -2.42205986\n",
      "  -1.99396164  -1.56586342  -1.1377652   -0.70966699  -0.28156877\n",
      "   0.14652945   0.57462767   1.00272589   1.43082411   1.85892233\n",
      "   2.28702055   2.71511877   3.14321699   3.57131521   3.99941343\n",
      "   4.42751165   4.85560987   5.28370808   5.7118063    6.13990452\n",
      "   6.56800274   6.99610096   7.42419918   7.8522974    8.28039562\n",
      "   8.70849384   9.13659206   9.56469028   9.9927885   10.42088672]\n"
     ]
    }
   ],
   "source": [
    "yy = -(w[0] * xx + b) / w[1] # 根据一个维度的值可以计算出另一个维度的值\n",
    "print(yy)"
   ]
  },
  {
   "cell_type": "markdown",
   "metadata": {},
   "source": [
    "#### 通过支持向量绘制分割超平面\n",
    " - 已知一点$(x_0,y_0)$和斜率$a$，求该直线方程：$y-y_0=a(x-x_0)$\n",
    " \n",
    " \n",
    " - 已知直线的法向量为$n=(m，b)$，则直线的斜率为：$a = -\\frac{m}{b}$"
   ]
  },
  {
   "cell_type": "code",
   "execution_count": 13,
   "metadata": {},
   "outputs": [],
   "source": [
    "# 直线斜率\n",
    "a = -w[0] / w[1]\n",
    "\n",
    "# 选择第一个类别的支持向量,并计算y值\n",
    "x_1 = clf.support_vectors_[0]\n",
    "yy_dowm = a * (xx - x_1[0]) + x_1[1]\n",
    "\n",
    "# 选择另一个类别的支持向量，并计算y值\n",
    "x_2 = clf.support_vectors_[-1]\n",
    "yy_up = a * (xx - x_2[0]) + x_2[1]"
   ]
  },
  {
   "cell_type": "markdown",
   "metadata": {},
   "source": [
    "#### 绘制模型示意图\n",
    "将不同类别的数据放到一起。  \n",
    "其中：positie存放的是正类；negtive存放的是负类。"
   ]
  },
  {
   "cell_type": "code",
   "execution_count": 16,
   "metadata": {},
   "outputs": [],
   "source": [
    "dataMat, labelMat = loadDataSet('G:\\\\desktop\\\\svmdata线性不可分 .txt')\n",
    "\n",
    "def unique_index(L,f):\n",
    "    return [i for (i,v) in enumerate(L) if v==f]\n",
    "\n",
    "pos = unique_index(labelMat, 1)\n",
    "positive = []\n",
    "for i in pos:\n",
    "    positive.append(dataMat[i])\n",
    "positive = np.array(positive)\n",
    "\n",
    "neg = unique_index(labelMat, -1)\n",
    "negtive = []\n",
    "for i in neg:\n",
    "    negtive.append(dataMat[i])\n",
    "negtive = np.array(negtive)"
   ]
  },
  {
   "cell_type": "code",
   "execution_count": 15,
   "metadata": {},
   "outputs": [
    {
     "data": {
      "image/png": "[encoded data removed]",
      "text/plain": [
       "<Figure size 432x288 with 1 Axes>"
      ]
     },
     "metadata": {
      "needs_background": "light"
     },
     "output_type": "display_data"
    }
   ],
   "source": [
    "# 绘制超平面及支持向量\n",
    "plt.plot(xx, yy, 'r-')\n",
    "plt.plot(xx, yy_dowm, 'k--')\n",
    "plt.plot(xx, yy_up, 'k--')\n",
    "\n",
    "# 将数据集上的点绘制到模型图中\n",
    "plt.scatter(positive[:,0], positive[:,1], s=80, c='y')\n",
    "plt.scatter(negtive[:,0], negtive[:,1], s=80, c='b')\n",
    "\n",
    "# 绘制支持向量上的点\n",
    "# plt.scatter(clf.support_vectors_[:,0], clf.support_vectors_[:,1], s=80, c='g')\n",
    "\n",
    "plt.show()"
   ]
  }
 ],
 "metadata": {
  "kernelspec": {
   "display_name": "Python 3",
   "language": "python",
   "name": "python3"
  },
  "language_info": {
   "codemirror_mode": {
    "name": "ipython",
    "version": 3
   },
   "file_extension": ".py",
   "mimetype": "text/x-python",
   "name": "python",
   "nbconvert_exporter": "python",
   "pygments_lexer": "ipython3",
   "version": "3.6.7"
  }
 },
 "nbformat": 4,
 "nbformat_minor": 2
}
